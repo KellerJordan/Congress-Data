{
 "cells": [
  {
   "cell_type": "code",
   "execution_count": 1,
   "metadata": {
    "collapsed": true
   },
   "outputs": [],
   "source": [
    "import os\n",
    "import urllib\n",
    "import codecs\n",
    "import zipfile\n",
    "\n",
    "import numpy as np\n",
    "import pandas as pd\n",
    "import scipy.sparse as sp\n",
    "import matplotlib.pyplot as plt\n",
    "from matplotlib.patches import Circle\n",
    "from matplotlib import gridspec\n",
    "\n",
    "from sklearn.linear_model import LogisticRegression\n",
    "from sklearn import metrics\n",
    "from sklearn.feature_extraction.text import CountVectorizer, TfidfVectorizer\n",
    "from sklearn import preprocessing\n",
    "from sklearn.model_selection import train_test_split"
   ]
  },
  {
   "cell_type": "code",
   "execution_count": 14,
   "metadata": {
    "collapsed": true
   },
   "outputs": [],
   "source": [
    "# Download zipped dataset.\n",
    "url = 'http://congressionalbills.org/billfiles/bills93-114.zip'\n",
    "filename = 'bills93-114.csv'\n",
    "filepath = 'data/'+filename+'.zip'\n",
    "if not os.path.isfile(filepath):\n",
    "    with open(filepath, 'wb') as f:\n",
    "            f.write(urllib.request.urlopen(url).read())\n",
    "            \n",
    "# Load dataframe.\n",
    "with zipfile.ZipFile(filepath) as zf:\n",
    "    with zf.open(filename) as f:\n",
    "        old_df = pd.read_csv(f, sep=';', encoding='latin-1')\n",
    "        \n",
    "text_cols = ['Title']\n",
    "bool_cols = ['Gender', 'Party', 'Majority']\n",
    "cat_cols = ['Major']\n",
    "tgt_cols = ['PLaw']\n",
    "\n",
    "## FEATURE PROCESSING\n",
    "# Drop 50k bills that have missing data in one of the cols.\n",
    "df = old_df[text_cols+bool_cols+cat_cols+tgt_cols].dropna()\n",
    "# Remove 8 non-party-affiated bills.\n",
    "df = df[df['Party'] != 328.0]\n",
    "# Process categorical columns.\n",
    "df['Party'] = df['Party'].map(lambda k: {100.0: 1, 200.0: 0}[k])\n",
    "df['Major'] = df['Major'].map(lambda k: 'm'+str(int(k)))\n",
    "# Fit tf-idf vectorizer on all data.\n",
    "vec = TfidfVectorizer(sublinear_tf=True, smooth_idf=False)\n",
    "vec.fit(df[text_cols].values.reshape(-1))\n",
    "# Fit categorical encoder.\n",
    "enc = preprocessing.OneHotEncoder()\n",
    "enc.fit(df[cat_cols])\n",
    "pass"
   ]
  },
  {
   "cell_type": "code",
   "execution_count": 115,
   "metadata": {
    "collapsed": true
   },
   "outputs": [],
   "source": [
    "## Helper functions\n",
    "\n",
    "def logistic(z):\n",
    "    return 1 / (1 + np.exp(-z))"
   ]
  },
  {
   "cell_type": "code",
   "execution_count": 6,
   "metadata": {
    "collapsed": true
   },
   "outputs": [],
   "source": [
    "def process_df(df,\n",
    "               cat_cols=['Major'],\n",
    "               bool_cols=['Gender', 'Party', 'Majority'],\n",
    "               text_col='Title',\n",
    "               tgt_col='PLaw'):\n",
    "\n",
    "    # get categorical and boolean features.\n",
    "    bool_dset = 2 * df[bool_cols].values - 1\n",
    "    if len(cat_cols) > 0:\n",
    "        cat_dset = enc.transform(df[cat_cols]).todense().A\n",
    "        var_dset = np.concatenate([cat_dset, bool_dset], axis=1)\n",
    "    else:\n",
    "        var_dset = bool_dset\n",
    "    sp_dset = sp.csr_matrix(var_dset)\n",
    "    \n",
    "    # get text features.\n",
    "    if text_col is not None:\n",
    "        text_dset = vec.transform(df[text_col].values.reshape(-1))\n",
    "        \n",
    "        dset = sp.csr_matrix(sp.hstack([text_dset, sp_dset]))\n",
    "    else:\n",
    "        dset = sp_dset\n",
    "    \n",
    "    target = df[tgt_col].values.reshape(-1)\n",
    "    return dset, target"
   ]
  },
  {
   "cell_type": "code",
   "execution_count": 16,
   "metadata": {
    "collapsed": true
   },
   "outputs": [],
   "source": [
    "## For class balancing, subsample an even number of bills that did and did not become law.\n",
    "df_p = df[df['PLaw'] == True]\n",
    "n_pos = len(df_p)\n",
    "df_n = df[df['PLaw'] == False].sample(n_pos)\n",
    "small_df = pd.concat([df_p, df_n])\n",
    "# small_df = df.sample(50000) # alternative: simply subsample."
   ]
  },
  {
   "cell_type": "code",
   "execution_count": 95,
   "metadata": {
    "collapsed": true
   },
   "outputs": [],
   "source": [
    "# Split into train / dev set.\n",
    "train_df, dev_df = train_test_split(small_df, test_size=0.2)\n",
    "# Process data.\n",
    "trnX, trnY = process_df(train_df, bool_cols=['Party', 'Majority'])\n",
    "devX, devY = process_df(dev_df, bool_cols=['Party', 'Majority'])"
   ]
  },
  {
   "cell_type": "code",
   "execution_count": 353,
   "metadata": {
    "scrolled": false
   },
   "outputs": [
    {
     "name": "stdout",
     "output_type": "stream",
     "text": [
      "acc: 0.777, f1: 0.781\n"
     ]
    }
   ],
   "source": [
    "# Construct logistic regression.\n",
    "cls = LogisticRegression(solver='lbfgs', max_iter=10000, C=3)\n",
    "cls.fit(trnX, trnY)\n",
    "\n",
    "# evaluate the model.\n",
    "yp = cls.predict(devX)\n",
    "acc = metrics.accuracy_score(devY, yp)\n",
    "f1 = metrics.f1_score(devY, yp)\n",
    "print('acc: %.3f, f1: %.3f' % (acc, f1))"
   ]
  },
  {
   "cell_type": "code",
   "execution_count": 359,
   "metadata": {},
   "outputs": [
    {
     "data": {
      "text/plain": [
       "0.776888444222111"
      ]
     },
     "execution_count": 359,
     "metadata": {},
     "output_type": "execute_result"
    }
   ],
   "source": [
    "# Evaluate on devset\n",
    "Zs = (devX * cls.coef_[0]) + cls.intercept_[0]\n",
    "pred = (Zs > 0)\n",
    "(pred == devY).mean()"
   ]
  },
  {
   "cell_type": "code",
   "execution_count": 355,
   "metadata": {},
   "outputs": [
    {
     "name": "stdout",
     "output_type": "stream",
     "text": [
      "-0.24494890976050218\n"
     ]
    }
   ],
   "source": [
    "Zs = (trnX * cls.coef_[0]) + cls.intercept_[0]\n",
    "feat_gender = train_df['Gender'].values\n",
    "\n",
    "w_gender = 0\n",
    "\n",
    "## run gradient descent only for the gender-weight.\n",
    "for eta in [10.0, 1.0, 0.1, 0.01]:\n",
    "    for _ in range(100):\n",
    "        w_gender += eta * np.mean((trnY - logistic(Zs + w_gender * feat_gender)) * feat_gender)\n",
    "\n",
    "print(w_gender)"
   ]
  },
  {
   "cell_type": "code",
   "execution_count": null,
   "metadata": {
    "collapsed": true
   },
   "outputs": [],
   "source": []
  },
  {
   "cell_type": "code",
   "execution_count": 383,
   "metadata": {
    "scrolled": true
   },
   "outputs": [
    {
     "data": {
      "text/plain": [
       "0.776888444222111"
      ]
     },
     "execution_count": 383,
     "metadata": {},
     "output_type": "execute_result"
    }
   ],
   "source": [
    "# Evaluate on devset\n",
    "Zs = (devX * cls.coef_[0]) + cls.intercept_[0]\n",
    "feat_gender = dev_df['Gender'].values\n",
    "\n",
    "pred = ((Zs + w_gender * feat_gender) > 0.0)\n",
    "(pred == devY).mean()"
   ]
  },
  {
   "cell_type": "code",
   "execution_count": 388,
   "metadata": {},
   "outputs": [
    {
     "data": {
      "text/plain": [
       "8"
      ]
     },
     "execution_count": 388,
     "metadata": {},
     "output_type": "execute_result"
    }
   ],
   "source": [
    "((Zs > 0) ^ ((Zs + w_gender * feat_gender) > 0.0)).sum()"
   ]
  },
  {
   "cell_type": "code",
   "execution_count": 121,
   "metadata": {},
   "outputs": [],
   "source": [
    "mask = dev_df['Gender'].values.astype(bool)\n",
    "dev_XX = devX[mask]\n",
    "dev_XY = devX[~mask]\n",
    "\n",
    "prob_XX = logistic(Zs)[mask].mean()\n",
    "prob_XY = logistic(Zs)[~mask].mean()"
   ]
  },
  {
   "cell_type": "code",
   "execution_count": null,
   "metadata": {
    "collapsed": true
   },
   "outputs": [],
   "source": []
  },
  {
   "cell_type": "code",
   "execution_count": null,
   "metadata": {
    "collapsed": true
   },
   "outputs": [],
   "source": []
  },
  {
   "cell_type": "code",
   "execution_count": null,
   "metadata": {
    "collapsed": true
   },
   "outputs": [],
   "source": []
  }
 ],
 "metadata": {
  "kernelspec": {
   "display_name": "Python 3",
   "language": "python",
   "name": "python3"
  },
  "language_info": {
   "codemirror_mode": {
    "name": "ipython",
    "version": 3
   },
   "file_extension": ".py",
   "mimetype": "text/x-python",
   "name": "python",
   "nbconvert_exporter": "python",
   "pygments_lexer": "ipython3",
   "version": "3.6.2"
  }
 },
 "nbformat": 4,
 "nbformat_minor": 2
}
